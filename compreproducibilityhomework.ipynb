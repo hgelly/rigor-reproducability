{
  "nbformat": 4,
  "nbformat_minor": 0,
  "metadata": {
    "colab": {
      "provenance": []
    },
    "kernelspec": {
      "name": "python3",
      "display_name": "Python 3"
    },
    "language_info": {
      "name": "python"
    }
  },
  "cells": [
    {
      "cell_type": "markdown",
      "source": [
        "Hannah Gelnaw\n",
        "October 28 2024"
      ],
      "metadata": {
        "id": "KLfz1Cc1ePku"
      }
    },
    {
      "cell_type": "code",
      "source": [
        "ans = 7*8\n"
      ],
      "metadata": {
        "id": "ezoy5QrceY6a"
      },
      "execution_count": null,
      "outputs": []
    },
    {
      "cell_type": "markdown",
      "source": [
        "Using repositories, tracking changes, and publishing platforms like GitHub can significantly enhance computational reproducibility by providing a structured and transparent way to share and manage code, data, and documentation. Repositories offer a centralized location where all project components are organized, allowing others to easily access the materials necessary to replicate analyses and experiments. GitHub can also be downloaded to computers such that it consistently updates changes in code and analysis that can be immediately used in other's analysis.\n",
        "\n",
        "Tracking changes through version control systems, such as Git, helps maintain a detailed record of modifications, which is crucial for reproducibility. Each change is logged with a timestamp and a description, allowing users to trace the development of code and understand how specific results were produced. Tracking changes can also help people identify potential errors in code - and whether these errors might alter the observed results from experiments. In languages such as python simple syntax errors can cause vastly different outputs and it is esssential to track these to avoid data processing errors. Github also facilitates collaboration, as multiple contributors can work on the same project without overwriting each other’s work. By reviewing commit histories, users can see when parameters or methods were adjusted, helping to reproduce specific results precisely.\n"
      ],
      "metadata": {
        "id": "e6IsqlaDeesq"
      }
    }
  ]
}